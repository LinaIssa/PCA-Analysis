{
 "cells": [
  {
   "cell_type": "markdown",
   "id": "e4405816-4e34-4e60-b1dc-3eb343345fc8",
   "metadata": {},
   "source": [
    "<a id='top'></a>\n",
    "# NIRSpec NIRCam datacubes regions extraction\n",
    "---\n",
    "**Author**: Lina Issa (lina.issa@irap.omp.eu) \n",
    "\n",
    "**Latest Update**: 31 october 2022\n",
    "\n",
    "This notebook needs the functions **cut_nirspec_cube** and **extract_nircam_sub_image** to be imported from prepare_NIRcam_NIRSpec_data.py \n"
   ]
  },
  {
   "cell_type": "code",
   "execution_count": 1,
   "id": "1061ade5-f6fa-4126-8add-702787b23c7f",
   "metadata": {
    "tags": []
   },
   "outputs": [
    {
     "name": "stdout",
     "output_type": "stream",
     "text": [
      "(8.873915833333333, 345.81504291666664)\n"
     ]
    }
   ],
   "source": [
    "from astropy.io import fits\n",
    "from astropy.coordinates import SkyCoord\n",
    "from astropy import units as u\n",
    "import mpdaf\n",
    "import numpy as np\n",
    "from scipy import interpolate\n",
    "from matplotlib import pyplot as plt\n",
    "from astropy.table import Table\n",
    "import webbpsf\n",
    "import os\n",
    "import time\n",
    "from prepare_NIRcam_NIRSpec_data import cut_nirspec_cube, extract_nircam_sub_image\n",
    "import matplotlib.pyplot as plt \n",
    "from astropy.utils.data import get_pkg_data_filename\n",
    "\n",
    "from sklearn.preprocessing import StandardScaler \n",
    "\n"
   ]
  },
  {
   "cell_type": "markdown",
   "id": "468d99e9-2458-4dd2-8f15-adb8f6a2c168",
   "metadata": {},
   "source": [
    "NIRSpec Subcube"
   ]
  },
  {
   "cell_type": "code",
   "execution_count": 2,
   "id": "5b557f4e-9557-4779-8f28-c23f0a33cff8",
   "metadata": {},
   "outputs": [],
   "source": [
    "directory    = './datacubes_corrected/'\n",
    "nirspec_cube = 'NIRSpec_170lp_clean_wcs_corrected_flux_calibrated.fits'\n",
    "center_proplyd = (-5.4182020,83.8347078) # in degrees (dec,ra)\n",
    "radius_proplyd = 2.5# in arcsec "
   ]
  },
  {
   "cell_type": "code",
   "execution_count": 3,
   "id": "0bfca611-82f2-40c8-9894-fc50d732a511",
   "metadata": {},
   "outputs": [
    {
     "name": "stderr",
     "output_type": "stream",
     "text": [
      "WARNING: FITSFixedWarning: 'obsfix' made the change 'Set OBSGEO-L to   -37.353408 from OBSGEO-[XYZ].\n",
      "Set OBSGEO-B to    -8.426229 from OBSGEO-[XYZ].\n",
      "Set OBSGEO-H to 1396105430.300 from OBSGEO-[XYZ]'. [astropy.wcs.wcs]\n"
     ]
    }
   ],
   "source": [
    "cut_nirspec_cube(directory, nirspec_cube, center_proplyd, radius_proplyd)"
   ]
  },
  {
   "cell_type": "markdown",
   "id": "d1bdd8db-0eff-42fd-9a21-2acefa578bbf",
   "metadata": {},
   "source": [
    "NIRCam "
   ]
  },
  {
   "cell_type": "code",
   "execution_count": 4,
   "id": "d4b1be4d-ea1d-421e-ad4d-d8f4fb1b945d",
   "metadata": {},
   "outputs": [],
   "source": [
    "# proplyd in detector B \n",
    "directory_Nircam = '/Users/lina/Documents/Thesis/NirCam_Images/OrionBar_NIRCAM_Final_mocaics_Boris_aligned_corrected_10Oct22/'\n",
    "filters = ['F140M', 'F335M', 'F182M', 'F480M','F187N','F210M','F212N','F277W','F300M']\n",
    "nircam_images = ['Level3_CLEAR-F140M-B_i2d.fits',  'Level3_CLEAR-F335M-B_i2d.fits',\n",
    "                 'Level3_CLEAR-F182M-B_i2d.fits',  'Level3_CLEAR-F480M-B_i2d.fits',\n",
    "                 'Level3_CLEAR-F187N-B_i2d.fits',  #'Level3_F162M-F150W2-B_i2d.fits',\n",
    "                 'Level3_CLEAR-F210M-B_i2d.fits',  #'Level3_F164N-F150W2-B_i2d.fits',\n",
    "                 'Level3_CLEAR-F212N-B_i2d.fits',  #'Level3_F323N-F322W2-B_i2d.fits',\n",
    "                 'Level3_CLEAR-F277W-B_i2d.fits',  #'Level3_F405N-F444W-B_i2d.fits', \n",
    "                 'Level3_CLEAR-F300M-B_i2d.fits']  #'Level3_F470N-F444W-B_i2d.fits' ]"
   ]
  },
  {
   "cell_type": "code",
   "execution_count": 5,
   "id": "2a41c92c-821a-4dbb-a52d-fb13188b206f",
   "metadata": {},
   "outputs": [
    {
     "name": "stderr",
     "output_type": "stream",
     "text": [
      "WARNING: FITSFixedWarning: 'obsfix' made the change 'Set OBSGEO-L to   -37.572631 from OBSGEO-[XYZ].\n",
      "Set OBSGEO-B to    -8.611515 from OBSGEO-[XYZ].\n",
      "Set OBSGEO-H to 1397997571.500 from OBSGEO-[XYZ]'. [astropy.wcs.wcs]\n"
     ]
    },
    {
     "name": "stdout",
     "output_type": "stream",
     "text": [
      "success\n"
     ]
    },
    {
     "name": "stderr",
     "output_type": "stream",
     "text": [
      "WARNING: FITSFixedWarning: 'obsfix' made the change 'Set OBSGEO-L to   -37.625395 from OBSGEO-[XYZ].\n",
      "Set OBSGEO-B to    -8.656112 from OBSGEO-[XYZ].\n",
      "Set OBSGEO-H to 1398453548.128 from OBSGEO-[XYZ]'. [astropy.wcs.wcs]\n"
     ]
    },
    {
     "name": "stdout",
     "output_type": "stream",
     "text": [
      "success\n"
     ]
    },
    {
     "name": "stderr",
     "output_type": "stream",
     "text": [
      "WARNING: FITSFixedWarning: 'obsfix' made the change 'Set OBSGEO-L to   -37.591359 from OBSGEO-[XYZ].\n",
      "Set OBSGEO-B to    -8.627345 from OBSGEO-[XYZ].\n",
      "Set OBSGEO-H to 1398159392.436 from OBSGEO-[XYZ]'. [astropy.wcs.wcs]\n"
     ]
    },
    {
     "name": "stdout",
     "output_type": "stream",
     "text": [
      "success\n"
     ]
    },
    {
     "name": "stderr",
     "output_type": "stream",
     "text": [
      "WARNING: FITSFixedWarning: 'obsfix' made the change 'Set OBSGEO-L to   -37.603274 from OBSGEO-[XYZ].\n",
      "Set OBSGEO-B to    -8.637415 from OBSGEO-[XYZ].\n",
      "Set OBSGEO-H to 1398262356.337 from OBSGEO-[XYZ]'. [astropy.wcs.wcs]\n"
     ]
    },
    {
     "name": "stdout",
     "output_type": "stream",
     "text": [
      "success\n"
     ]
    },
    {
     "name": "stderr",
     "output_type": "stream",
     "text": [
      "WARNING: FITSFixedWarning: 'obsfix' made the change 'Set OBSGEO-L to   -37.620291 from OBSGEO-[XYZ].\n",
      "Set OBSGEO-B to    -8.651798 from OBSGEO-[XYZ].\n",
      "Set OBSGEO-H to 1398409430.090 from OBSGEO-[XYZ]'. [astropy.wcs.wcs]\n"
     ]
    },
    {
     "name": "stdout",
     "output_type": "stream",
     "text": [
      "success\n"
     ]
    },
    {
     "name": "stderr",
     "output_type": "stream",
     "text": [
      "WARNING: FITSFixedWarning: 'obsfix' made the change 'Set OBSGEO-L to   -37.553897 from OBSGEO-[XYZ].\n",
      "Set OBSGEO-B to    -8.595681 from OBSGEO-[XYZ].\n",
      "Set OBSGEO-H to 1397835725.874 from OBSGEO-[XYZ]'. [astropy.wcs.wcs]\n"
     ]
    },
    {
     "name": "stdout",
     "output_type": "stream",
     "text": [
      "success\n"
     ]
    },
    {
     "name": "stderr",
     "output_type": "stream",
     "text": [
      "WARNING: FITSFixedWarning: 'obsfix' made the change 'Set OBSGEO-L to   -37.625395 from OBSGEO-[XYZ].\n",
      "Set OBSGEO-B to    -8.656112 from OBSGEO-[XYZ].\n",
      "Set OBSGEO-H to 1398453548.128 from OBSGEO-[XYZ]'. [astropy.wcs.wcs]\n"
     ]
    },
    {
     "name": "stdout",
     "output_type": "stream",
     "text": [
      "success\n"
     ]
    },
    {
     "name": "stderr",
     "output_type": "stream",
     "text": [
      "WARNING: FITSFixedWarning: 'obsfix' made the change 'Set OBSGEO-L to   -37.563265 from OBSGEO-[XYZ].\n",
      "Set OBSGEO-B to    -8.603599 from OBSGEO-[XYZ].\n",
      "Set OBSGEO-H to 1397916651.742 from OBSGEO-[XYZ]'. [astropy.wcs.wcs]\n"
     ]
    },
    {
     "name": "stdout",
     "output_type": "stream",
     "text": [
      "success\n"
     ]
    },
    {
     "name": "stderr",
     "output_type": "stream",
     "text": [
      "WARNING: FITSFixedWarning: 'obsfix' made the change 'Set OBSGEO-L to   -37.591359 from OBSGEO-[XYZ].\n",
      "Set OBSGEO-B to    -8.627345 from OBSGEO-[XYZ].\n",
      "Set OBSGEO-H to 1398159392.436 from OBSGEO-[XYZ]'. [astropy.wcs.wcs]\n"
     ]
    },
    {
     "name": "stdout",
     "output_type": "stream",
     "text": [
      "success\n"
     ]
    }
   ],
   "source": [
    "for i in range(len(filters)):\n",
    "    extract_nircam_sub_image(directory_Nircam, nircam_images[i], center_proplyd, radius_proplyd, filters[i] )"
   ]
  },
  {
   "cell_type": "code",
   "execution_count": 6,
   "id": "28343f84-d1c1-4ec2-8b1f-309c3f6e2cda",
   "metadata": {},
   "outputs": [
    {
     "name": "stderr",
     "output_type": "stream",
     "text": [
      "WARNING: FITSFixedWarning: 'obsfix' made the change 'Set OBSGEO-L to   -37.572631 from OBSGEO-[XYZ].\n",
      "Set OBSGEO-B to    -8.611515 from OBSGEO-[XYZ].\n",
      "Set OBSGEO-H to 1397997571.500 from OBSGEO-[XYZ]'. [astropy.wcs.wcs]\n"
     ]
    },
    {
     "name": "stdout",
     "output_type": "stream",
     "text": [
      "success\n"
     ]
    }
   ],
   "source": [
    "extract_nircam_sub_image(directory_Nircam, nircam_images[0], center_proplyd, radius_proplyd, filters[0] )"
   ]
  },
  {
   "cell_type": "code",
   "execution_count": 7,
   "id": "2db68fe7-3844-4f8c-a31c-d6518651416d",
   "metadata": {},
   "outputs": [
    {
     "name": "stdout",
     "output_type": "stream",
     "text": [
      "3.004680226652103\n"
     ]
    }
   ],
   "source": [
    "bands = 3663\n",
    "wavelength   = np.linspace(1.69997, 3.15, bands)\n",
    "print(wavelength[3295])"
   ]
  },
  {
   "cell_type": "code",
   "execution_count": 10,
   "id": "187f9e45-b104-474d-8288-d74785520f6c",
   "metadata": {},
   "outputs": [],
   "source": [
    "cube_nircam_file = get_pkg_data_filename(directory_Nircam + 'NIRCam_F182M.fits')\n",
    "cube_nircam_data = fits.getdata(cube_nircam_file, ext=1) \n"
   ]
  },
  {
   "cell_type": "code",
   "execution_count": 13,
   "id": "177afdb6-69bc-4d9e-ba9f-a04d7a437100",
   "metadata": {},
   "outputs": [
    {
     "data": {
      "image/png": "[encoded data removed]",
      "text/plain": [
       "<Figure size 432x288 with 2 Axes>"
      ]
     },
     "metadata": {
      "needs_background": "light"
     },
     "output_type": "display_data"
    }
   ],
   "source": [
    "fig, ax = plt.subplots(1,2)\n",
    "ax[0].imshow(cube_nircam_data, cmap='plasma', origin='lower')\n",
    "ax[0].set_xlabel(\"pixel coordinates\")\n",
    "ax[0].set_ylabel(\"pixel coordinates\")\n",
    "ax[0].grid()\n",
    "ax[0].set_title('NirCam Image in F180M filter')\n",
    "\n",
    "ax[1].imshow(cube_nirspec_data[652], cmap='plasma', origin='lower')\n",
    "ax[1].set_xlabel(\"pixel coordinates\")\n",
    "ax[1].grid()\n",
    "ax[1].set_title(f'NirSpec Image at  {wavelength[652]:.3f} $\\mu m$')\n",
    "plt.savefig('plots/comparaison_proplyd_F182M.pdf')"
   ]
  },
  {
   "cell_type": "code",
   "execution_count": 12,
   "id": "33ad4c9f-ff3e-40fd-b5d7-5962a120d2d1",
   "metadata": {},
   "outputs": [],
   "source": [
    "cube_nirspec_file = get_pkg_data_filename(directory + 'NIRSpec_subcube.fits')\n",
    "cube_nirspec_data = fits.getdata(cube_nirspec_file, ext=1) \n",
    "\n",
    "mean_nirspec_image_182 = np.mean(cube_nirspec_data[0:1000], axis=0)"
   ]
  },
  {
   "cell_type": "code",
   "execution_count": 14,
   "id": "663597f2-97b2-472a-8fb7-77f32ba3ea30",
   "metadata": {},
   "outputs": [
    {
     "data": {
      "text/plain": [
       "(25, 25)"
      ]
     },
     "execution_count": 14,
     "metadata": {},
     "output_type": "execute_result"
    }
   ],
   "source": [
    "mean_nirspec_image_182[0:655].shape"
   ]
  },
  {
   "cell_type": "code",
   "execution_count": 15,
   "id": "c628238d-e00a-49ab-bcf4-cdb04ff28aaa",
   "metadata": {},
   "outputs": [
    {
     "data": {
      "text/plain": [
       "Text(0.5, 1.0, 'NirSpec Image at  1.958 $\\\\mu m$')"
      ]
     },
     "execution_count": 15,
     "metadata": {},
     "output_type": "execute_result"
    },
    {
     "data": {
      "image/png": "[encoded data removed]",
      "text/plain": [
       "<Figure size 720x360 with 2 Axes>"
      ]
     },
     "metadata": {
      "needs_background": "light"
     },
     "output_type": "display_data"
    }
   ],
   "source": [
    "plt.figure(figsize=(10,5))\n",
    "plt.imshow(mean_nirspec_image_182, cmap='plasma', origin='lower')\n",
    "plt.xlabel(\"pixel coordinates\")\n",
    "plt.ylabel(\"pixel coordinates\")\n",
    "plt.colorbar()\n",
    "plt.grid()\n",
    "plt.title(f'NirSpec Image at  {wavelength[652]:.3f} $\\mu m$')"
   ]
  },
  {
   "cell_type": "code",
   "execution_count": 16,
   "id": "2028ff31-db0e-4cd4-b792-b54641fdc869",
   "metadata": {},
   "outputs": [],
   "source": [
    "cube_nircam_file = get_pkg_data_filename(directory_Nircam + 'NIRCam_F300M.fits')\n",
    "cube_nircam_data = fits.getdata(cube_nircam_file, ext=1) \n",
    "\n"
   ]
  },
  {
   "cell_type": "code",
   "execution_count": 17,
   "id": "92768d18-4c9b-42d2-8fb9-d5a5f980c66f",
   "metadata": {},
   "outputs": [
    {
     "data": {
      "image/png": "[encoded data removed]",
      "text/plain": [
       "<Figure size 432x288 with 2 Axes>"
      ]
     },
     "metadata": {
      "needs_background": "light"
     },
     "output_type": "display_data"
    }
   ],
   "source": [
    "fig, ax = plt.subplots(1,2)\n",
    "ax[0].imshow(cube_nircam_data, cmap='plasma', origin='lower')\n",
    "ax[0].set_xlabel(\"pixel coordinates\")\n",
    "ax[0].set_ylabel(\"pixel coordinates\")\n",
    "ax[0].grid()\n",
    "ax[0].set_title('NirCam Image in F200M filter')\n",
    "\n",
    "ax[1].imshow(cube_nirspec_data[3294], cmap='plasma', origin='lower')\n",
    "ax[1].set_xlabel(\"pixel coordinates\")\n",
    "ax[1].grid()\n",
    "ax[1].set_title(f'NirSpec Image at  {wavelength[3294]:.3f} $\\mu m$')\n",
    "plt.savefig('plots/comparaison_proplyd_F200M.pdf')"
   ]
  },
  {
   "cell_type": "code",
   "execution_count": null,
   "id": "17179382-2dc9-4df6-b96f-37fd164e8a54",
   "metadata": {},
   "outputs": [],
   "source": []
  }
 ],
 "metadata": {
  "kernelspec": {
   "display_name": "Python 3 (ipykernel)",
   "language": "python",
   "name": "python3"
  },
  "language_info": {
   "codemirror_mode": {
    "name": "ipython",
    "version": 3
   },
   "file_extension": ".py",
   "mimetype": "text/x-python",
   "name": "python",
   "nbconvert_exporter": "python",
   "pygments_lexer": "ipython3",
   "version": "3.9.12"
  }
 },
 "nbformat": 4,
 "nbformat_minor": 5
}
